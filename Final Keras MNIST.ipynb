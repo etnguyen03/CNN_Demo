{
 "cells": [
  {
   "cell_type": "code",
   "execution_count": 1,
   "metadata": {},
   "outputs": [],
   "source": [
    "import numpy as np"
   ]
  },
  {
   "cell_type": "code",
   "execution_count": 2,
   "metadata": {},
   "outputs": [
    {
     "name": "stderr",
     "output_type": "stream",
     "text": [
      "/anaconda3/lib/python3.6/site-packages/h5py/__init__.py:36: FutureWarning: Conversion of the second argument of issubdtype from `float` to `np.floating` is deprecated. In future, it will be treated as `np.float64 == np.dtype(float).type`.\n",
      "  from ._conv import register_converters as _register_converters\n",
      "Using TensorFlow backend.\n"
     ]
    }
   ],
   "source": [
    "from keras.layers import Conv2D, Activation, MaxPool2D, Flatten, Dense\n",
    "from keras.models import Sequential\n",
    "\n",
    "# Images fed into this model are 512 x 512 pixels with 3 channels\n",
    "img_shape = (28,28,1)\n",
    "\n",
    "# Set up model\n",
    "model = Sequential()\n",
    "\n",
    "# Add convolutional layer with 3, 3 by 3 filters and a stride size of 1\n",
    "# Set padding so that input size equals output size\n",
    "model.add(Conv2D(6,2,input_shape=img_shape))\n",
    "# Add relu activation to the layer \n",
    "model.add(Activation('relu'))\n",
    "\n",
    "model.add(MaxPool2D(2))\n",
    "\n",
    "model.add(Flatten())\n",
    "\n",
    "model.add(Dense(10))\n",
    "\n",
    "model.add(Activation('softmax'))"
   ]
  },
  {
   "cell_type": "code",
   "execution_count": 3,
   "metadata": {},
   "outputs": [
    {
     "name": "stdout",
     "output_type": "stream",
     "text": [
      "_________________________________________________________________\n",
      "Layer (type)                 Output Shape              Param #   \n",
      "=================================================================\n",
      "conv2d_1 (Conv2D)            (None, 27, 27, 6)         30        \n",
      "_________________________________________________________________\n",
      "activation_1 (Activation)    (None, 27, 27, 6)         0         \n",
      "_________________________________________________________________\n",
      "max_pooling2d_1 (MaxPooling2 (None, 13, 13, 6)         0         \n",
      "_________________________________________________________________\n",
      "flatten_1 (Flatten)          (None, 1014)              0         \n",
      "_________________________________________________________________\n",
      "dense_1 (Dense)              (None, 10)                10150     \n",
      "_________________________________________________________________\n",
      "activation_2 (Activation)    (None, 10)                0         \n",
      "=================================================================\n",
      "Total params: 10,180\n",
      "Trainable params: 10,180\n",
      "Non-trainable params: 0\n",
      "_________________________________________________________________\n"
     ]
    }
   ],
   "source": [
    "model.summary()"
   ]
  },
  {
   "cell_type": "code",
   "execution_count": 4,
   "metadata": {},
   "outputs": [],
   "source": [
    "model.compile(loss='sparse_categorical_crossentropy', optimizer = 'adam', metrics=['acc'])"
   ]
  },
  {
   "cell_type": "code",
   "execution_count": 5,
   "metadata": {},
   "outputs": [],
   "source": [
    "from keras.datasets import mnist"
   ]
  },
  {
   "cell_type": "code",
   "execution_count": 6,
   "metadata": {},
   "outputs": [],
   "source": [
    "(x_train, y_train), (x_test, y_test) = mnist.load_data()"
   ]
  },
  {
   "cell_type": "code",
   "execution_count": 7,
   "metadata": {},
   "outputs": [
    {
     "data": {
      "text/plain": [
       "(60000, 28, 28)"
      ]
     },
     "execution_count": 7,
     "metadata": {},
     "output_type": "execute_result"
    }
   ],
   "source": [
    "x_train.shape"
   ]
  },
  {
   "cell_type": "code",
   "execution_count": 8,
   "metadata": {},
   "outputs": [],
   "source": [
    "x_train = np.expand_dims(x_train,-1)"
   ]
  },
  {
   "cell_type": "code",
   "execution_count": 9,
   "metadata": {},
   "outputs": [],
   "source": [
    "x_test = np.expand_dims(x_test,-1)"
   ]
  },
  {
   "cell_type": "code",
   "execution_count": 10,
   "metadata": {},
   "outputs": [
    {
     "data": {
      "text/plain": [
       "(60000, 28, 28, 1)"
      ]
     },
     "execution_count": 10,
     "metadata": {},
     "output_type": "execute_result"
    }
   ],
   "source": [
    "x_train.shape"
   ]
  },
  {
   "cell_type": "code",
   "execution_count": 11,
   "metadata": {},
   "outputs": [
    {
     "data": {
      "text/plain": [
       "(60000,)"
      ]
     },
     "execution_count": 11,
     "metadata": {},
     "output_type": "execute_result"
    }
   ],
   "source": [
    "y_train.shape"
   ]
  },
  {
   "cell_type": "code",
   "execution_count": 12,
   "metadata": {},
   "outputs": [
    {
     "name": "stdout",
     "output_type": "stream",
     "text": [
      "Train on 60000 samples, validate on 10000 samples\n",
      "Epoch 1/10\n",
      "60000/60000 [==============================] - 12s 202us/step - loss: 7.1907 - acc: 0.5469 - val_loss: 6.5709 - val_acc: 0.5870\n",
      "Epoch 2/10\n",
      "60000/60000 [==============================] - 14s 228us/step - loss: 6.6421 - acc: 0.5833 - val_loss: 6.5336 - val_acc: 0.5893\n",
      "Epoch 3/10\n",
      "60000/60000 [==============================] - 13s 213us/step - loss: 6.1935 - acc: 0.6089 - val_loss: 4.9038 - val_acc: 0.6874\n",
      "Epoch 4/10\n",
      "60000/60000 [==============================] - 12s 196us/step - loss: 1.5581 - acc: 0.8699 - val_loss: 0.1544 - val_acc: 0.9561\n",
      "Epoch 5/10\n",
      "60000/60000 [==============================] - 11s 183us/step - loss: 0.1277 - acc: 0.9638 - val_loss: 0.1197 - val_acc: 0.9645\n",
      "Epoch 6/10\n",
      "60000/60000 [==============================] - 12s 208us/step - loss: 0.0984 - acc: 0.9709 - val_loss: 0.1033 - val_acc: 0.9695\n",
      "Epoch 7/10\n",
      "60000/60000 [==============================] - 12s 207us/step - loss: 0.0852 - acc: 0.9741 - val_loss: 0.1139 - val_acc: 0.9668\n",
      "Epoch 8/10\n",
      "60000/60000 [==============================] - 14s 241us/step - loss: 0.0753 - acc: 0.9768 - val_loss: 0.0977 - val_acc: 0.9704\n",
      "Epoch 9/10\n",
      "60000/60000 [==============================] - 14s 233us/step - loss: 0.0669 - acc: 0.9794 - val_loss: 0.0990 - val_acc: 0.9720\n",
      "Epoch 10/10\n",
      "60000/60000 [==============================] - 12s 203us/step - loss: 0.0617 - acc: 0.9804 - val_loss: 0.1082 - val_acc: 0.9713\n"
     ]
    },
    {
     "data": {
      "text/plain": [
       "<keras.callbacks.History at 0x10ac46470>"
      ]
     },
     "execution_count": 12,
     "metadata": {},
     "output_type": "execute_result"
    }
   ],
   "source": [
    "model.fit(x_train,y_train,batch_size=32,epochs=10,validation_data=(x_test,y_test))"
   ]
  },
  {
   "cell_type": "code",
   "execution_count": null,
   "metadata": {},
   "outputs": [],
   "source": []
  }
 ],
 "metadata": {
  "anaconda-cloud": {},
  "kernelspec": {
   "display_name": "Python 3",
   "language": "python",
   "name": "python3"
  },
  "language_info": {
   "codemirror_mode": {
    "name": "ipython",
    "version": 3
   },
   "file_extension": ".py",
   "mimetype": "text/x-python",
   "name": "python",
   "nbconvert_exporter": "python",
   "pygments_lexer": "ipython3",
   "version": "3.6.5"
  }
 },
 "nbformat": 4,
 "nbformat_minor": 2
}
